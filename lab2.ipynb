{
  "nbformat": 4,
  "nbformat_minor": 0,
  "metadata": {
    "colab": {
      "provenance": [],
      "authorship_tag": "ABX9TyP7M9nLa911E4KGVwWyZhZ8",
      "include_colab_link": true
    },
    "kernelspec": {
      "name": "python3",
      "display_name": "Python 3"
    },
    "language_info": {
      "name": "python"
    }
  },
  "cells": [
    {
      "cell_type": "markdown",
      "metadata": {
        "id": "view-in-github",
        "colab_type": "text"
      },
      "source": [
        "<a href=\"https://colab.research.google.com/github/ASMT-College/lab-2-association-mining-yamk1029/blob/main/lab2.ipynb\" target=\"_parent\"><img src=\"https://colab.research.google.com/assets/colab-badge.svg\" alt=\"Open In Colab\"/></a>"
      ]
    },
    {
      "cell_type": "markdown",
      "source": [
        "Lab 2 Association Mining"
      ],
      "metadata": {
        "id": "-dNGNjJvJ2tU"
      }
    },
    {
      "cell_type": "code",
      "execution_count": 7,
      "metadata": {
        "colab": {
          "base_uri": "https://localhost:8080/",
          "height": 752
        },
        "id": "vGJrMDaMJypl",
        "outputId": "72d7ed23-14f6-4ea7-be4d-b808a4a1834b"
      },
      "outputs": [
        {
          "output_type": "stream",
          "name": "stdout",
          "text": [
            "Initial Data:\n",
            "    TransactionID                        Items\n",
            "0              1                [Bread, Milk]\n",
            "1              2  [Bread, Diaper, Beer, Eggs]\n",
            "2              3   [Milk, Diaper, Beer, Coke]\n",
            "3              4  [Bread, Milk, Diaper, Beer]\n",
            "4              5  [Bread, Milk, Diaper, Coke]\n",
            "\n",
            "One-Hot Encoded Data:\n",
            "    Bread  Milk  Diaper  Beer  Eggs  Coke\n",
            "0    1.0   1.0     0.0   0.0   0.0   0.0\n",
            "1    1.0   0.0     1.0   1.0   1.0   0.0\n",
            "2    0.0   1.0     1.0   1.0   0.0   1.0\n",
            "3    1.0   1.0     1.0   1.0   0.0   0.0\n",
            "4    1.0   1.0     1.0   0.0   0.0   1.0\n",
            "\n",
            "Frequent Itemsets:\n",
            "    support         itemsets\n",
            "0      0.8          (Bread)\n",
            "1      0.8           (Milk)\n",
            "2      0.8         (Diaper)\n",
            "3      0.6           (Beer)\n",
            "4      0.6    (Bread, Milk)\n",
            "5      0.6  (Bread, Diaper)\n",
            "6      0.6   (Diaper, Milk)\n",
            "7      0.6   (Diaper, Beer)\n"
          ]
        },
        {
          "output_type": "stream",
          "name": "stderr",
          "text": [
            "/usr/local/lib/python3.10/dist-packages/ipykernel/ipkernel.py:283: DeprecationWarning: `should_run_async` will not call `transform_cell` automatically in the future. Please pass the result to `transformed_cell` argument and any exception that happen during thetransform in `preprocessing_exc_tuple` in IPython 7.17 and above.\n",
            "  and should_run_async(code)\n",
            "/usr/local/lib/python3.10/dist-packages/mlxtend/frequent_patterns/fpcommon.py:161: DeprecationWarning: DataFrames with non-bool types result in worse computationalperformance and their support might be discontinued in the future.Please use a DataFrame with bool type\n",
            "  warnings.warn(\n"
          ]
        },
        {
          "output_type": "error",
          "ename": "TypeError",
          "evalue": "association_rules() missing 1 required positional argument: 'num_itemsets'",
          "traceback": [
            "\u001b[0;31m---------------------------------------------------------------------------\u001b[0m",
            "\u001b[0;31mTypeError\u001b[0m                                 Traceback (most recent call last)",
            "\u001b[0;32m<ipython-input-7-0f4e5cb61fda>\u001b[0m in \u001b[0;36m<cell line: 29>\u001b[0;34m()\u001b[0m\n\u001b[1;32m     27\u001b[0m \u001b[0;31m# Step 4: Generate association rules from the frequent itemsets\u001b[0m\u001b[0;34m\u001b[0m\u001b[0;34m\u001b[0m\u001b[0m\n\u001b[1;32m     28\u001b[0m \u001b[0;31m# Use a minimum confidence threshold of 0.7 (at least 70% confidence)\u001b[0m\u001b[0;34m\u001b[0m\u001b[0;34m\u001b[0m\u001b[0m\n\u001b[0;32m---> 29\u001b[0;31m \u001b[0mrules\u001b[0m \u001b[0;34m=\u001b[0m \u001b[0massociation_rules\u001b[0m\u001b[0;34m(\u001b[0m\u001b[0mfrequent_itemsets\u001b[0m\u001b[0;34m,\u001b[0m \u001b[0mmetric\u001b[0m\u001b[0;34m=\u001b[0m\u001b[0;34m\"confidence\"\u001b[0m\u001b[0;34m,\u001b[0m \u001b[0mmin_threshold\u001b[0m\u001b[0;34m=\u001b[0m\u001b[0;36m0.7\u001b[0m\u001b[0;34m)\u001b[0m\u001b[0;34m\u001b[0m\u001b[0;34m\u001b[0m\u001b[0m\n\u001b[0m\u001b[1;32m     30\u001b[0m \u001b[0mprint\u001b[0m\u001b[0;34m(\u001b[0m\u001b[0;34m\"\\nAssociation Rules:\\n\"\u001b[0m\u001b[0;34m,\u001b[0m \u001b[0mrules\u001b[0m\u001b[0;34m)\u001b[0m\u001b[0;34m\u001b[0m\u001b[0;34m\u001b[0m\u001b[0m\n\u001b[1;32m     31\u001b[0m \u001b[0;34m\u001b[0m\u001b[0m\n",
            "\u001b[0;31mTypeError\u001b[0m: association_rules() missing 1 required positional argument: 'num_itemsets'"
          ]
        }
      ],
      "source": [
        "import pandas as pd\n",
        "from mlxtend.frequent_patterns import apriori, association_rules\n",
        "\n",
        "# Step 1: Load the dataset\n",
        "data = {\n",
        "    'TransactionID': [1, 2, 3, 4, 5],\n",
        "    'Items': [\n",
        "        ['Bread', 'Milk'],\n",
        "        ['Bread', 'Diaper', 'Beer', 'Eggs'],\n",
        "        ['Milk', 'Diaper', 'Beer', 'Coke'],\n",
        "        ['Bread', 'Milk', 'Diaper', 'Beer'],\n",
        "        ['Bread', 'Milk', 'Diaper', 'Coke']\n",
        "    ]\n",
        "}\n",
        "\n",
        "df = pd.DataFrame(data)\n",
        "print(\"Initial Data:\\n\", df)\n",
        "\n",
        "# Step 2: Convert dataset into a format suitable for the Apriori algorithm# Convert the list of items into one-hot encoded format\n",
        "df_items = df['Items'].apply(lambda x: pd.Series(1, index=x)).fillna(0)\n",
        "print(\"\\nOne-Hot Encoded Data:\\n\", df_items)\n",
        "\n",
        "# Step 3: Apply the Apriori algorithm to find frequent itemsets# Use a minimum support threshold of 0.6 (at least 60% of transactions)\n",
        "frequent_itemsets = apriori(df_items, min_support=0.6, use_colnames=True)\n",
        "print(\"\\nFrequent Itemsets:\\n\", frequent_itemsets)\n",
        "\n",
        "# Step 4: Generate association rules from the frequent itemsets\n",
        "# Use a minimum confidence threshold of 0.7 (at least 70% confidence)\n",
        "rules = association_rules(frequent_itemsets, metric=\"confidence\", min_threshold=0.7)\n",
        "print(\"\\nAssociation Rules:\\n\", rules)\n",
        "\n",
        "# Step 5: Interpret the results# Display the rules in a simple format\n",
        "for _, row in rules.iterrows():\n",
        "  print(f\"\\nRule: {set(row['antecedents'])} -> {set(row['consequents'])}\")\n",
        "  print(f\"Support: {row['support']:.2f}\")\n",
        "  print(f\"Confidence: {row['confidence']:.2f}\")\n",
        "  print(f\"Lift: {row['lift']:.2f}\")"
      ]
    }
  ]
}